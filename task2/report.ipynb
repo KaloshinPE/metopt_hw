{
 "cells": [
  {
   "cell_type": "code",
   "execution_count": 1,
   "metadata": {
    "collapsed": true
   },
   "outputs": [],
   "source": [
    "import numpy as np\n",
    "import matplotlib.pyplot as plt"
   ]
  },
  {
   "cell_type": "markdown",
   "metadata": {},
   "source": [
    "### а) Показать, что, если алгоритм центрального пути сходится, то он сходится к решения задачи ЛП\n",
    "\n",
    "<div style=\"float: left; width: 30%;\">Прямая задача: <br>\n",
    "max $c^Tx$ <br>\n",
    "$Ax + x_s = b$ <br>\n",
    "$x, x_s \\geq 0$\n",
    "</div><div style=\"float: left; width: 70%;\">\n",
    "Двойственная задача: <br>\n",
    "min $b^Ty$ <br>\n",
    "$A^Ty - y_s = c$ <br>\n",
    "$y, y_s \\geq 0$\n",
    "</div><div class=\"clear\">\n",
    "<t>На каждом шаге ищем $x, x_s, y, y_s$ такие, что F($x, x_s, y, y_s, \\mu$) = $\\begin{pmatrix} Ax + x_s - b \\\\  A^Ty - y_s - c\\\\ XY_s\\textbf1 - \\mu\\textbf1 \\\\ X_sY\\textbf1 - \\mu\\textbf1 \\end{pmatrix} = \\vec0$ \n",
    "<br> Уравнения из первых двух строчек системы гарантируют нам, что точки $x, x_s, y, y_s$ являются допустимыми для соответствующих задач ЛП\n",
    "<br> Из последних двух уравнений получаем, что в пределе ($\\mu = 0$) $x^iy_s^i = 0, x_s^jy^j = 0$  $\\forall i \\in\\overline{1,n}, j \\in\\overline{1,m}  $, из чего при помощи теоремы о комплиментарности делаем вывод, что $x, x_s, y, y_s$ - решения соответствующих задач ЛП"
   ]
  },
  {
   "cell_type": "markdown",
   "metadata": {},
   "source": [
    "### b) Реализовать алгоритм демпфированного метода Ньютона \n",
    "для задачи <br>solve $F(x, 𝑥𝑠, 𝑦, 𝑦𝑠, 𝜇) = \\vec0$ <br>$x,x_s,y,y_s>0$"
   ]
  },
  {
   "cell_type": "markdown",
   "metadata": {},
   "source": [
    "Функция F векторная, метод Ньютона определен для скалярной. Будем решать задачу G($x, x_s, y, y_s, \\mu$) = $<F,F>^2$, ее решение, очевидно, является решением исходной. <br>\n"
   ]
  },
  {
   "cell_type": "code",
   "execution_count": 2,
   "metadata": {
    "collapsed": true
   },
   "outputs": [],
   "source": [
    "def G_value(x, x_s, y, y_s, mu):\n",
    "    r1, r2 = np.dot(A, x) + x_s - b, np.dot(A.transpose(), y) - y_s - c\n",
    "    v1, v2 = np.array([x[i]*y_s[i] - mu for i in range(len(x))]), np.array([x_s[j]*y[j] - mu for j in range(len(y))])\n",
    "    return np.dot(r1, r1) + np.dot(r2, r2) + np.dot(v1, v1) + np.dot(v2, v2)"
   ]
  },
  {
   "cell_type": "markdown",
   "metadata": {},
   "source": [
    "gradG может быть посчитан аналитически <br>\n",
    "$\\frac{\\partial G}{\\partial x^i} = 2(Ax + x_s -b)A^T[i] + 2(x^iy_s^i - \\mu)y_s^i$,   $i \\in \\overline{1,n}$ <br>\n",
    "$\\frac{\\partial G}{\\partial x_s^j} = 2(Ax + x_s -b)_j + 2(x_s^jy^j - \\mu)y^j$,   $j \\in \\overline{1,m}$ <br>\n",
    "$\\frac{\\partial G}{\\partial y^j} = 2(A^Ty - y_s - c)A[j] + 2(x_s^jy^j - \\mu)x_s^j$,   $j \\in \\overline{1,m}$ <br>\n",
    "$\\frac{\\partial G}{\\partial y_s^i} = -2(A^Ty - y_s - c)_i + 2(x^iy_s^i - \\mu)x^i$,   $i \\in\\overline{1,n}$ <br>\n",
    "Здесь A[i] - i-ая строка матрицы"
   ]
  },
  {
   "cell_type": "code",
   "execution_count": 3,
   "metadata": {
    "collapsed": true
   },
   "outputs": [],
   "source": [
    "def grad_G(x, x_s, y, y_s, mu):\n",
    "    r1 = np.dot(A, x) + x_s - b\n",
    "    r2 = np.dot(A.transpose(), y) - y_s - c\n",
    "    grad_x, grad_x_s, grad_y, grad_y_s = np.zeros(len(x)), np.zeros(len(x_s)), np.zeros(len(y)), np.zeros(len(y_s))\n",
    "    for i in range(len(x)):\n",
    "        grad_x[i] = 2*np.dot(r1, A.transpose()[i]) + 2*(x[i]*y_s[i] - mu)*y_s[i]\n",
    "        grad_y_s[i] = -2 * r2[i] + 2 * (x[i] * y_s[i] - mu) * x[i]\n",
    "    for j in range(len(y)):\n",
    "        grad_y[j] = 2*np.dot(r2, A[j]) + 2*(x_s[j]*y[j] - mu)*x_s[j]\n",
    "        grad_x_s[j] = 2 * r1[j] + 2 * (x_s[j] * y[j] - mu) * y[j]\n",
    "    return grad_x, grad_x_s, grad_y, grad_y_s"
   ]
  },
  {
   "cell_type": "markdown",
   "metadata": {},
   "source": [
    "В следующей функции определяем, куда нам шагнуть из текущего положения <br>\n",
    "$x_{n+1} = x_n - \\alpha \\frac {gradG(x_n)}{|gradG(x_n)|}$ <br>\n",
    "$\\alpha$ выбираем так, чтобы координаты $x_{n+1}$ были неотрицательными <br>\n",
    "$\\alpha_{max} = \\frac {G(x_n)}{|gradG(x_n)|}$ <br>\n",
    "$\\alpha = min(\\alpha_{max}, min(\\frac {x_i}{gradG[i]}, \\alpha_{max}))$  $\\forall i$ т.ч $gradG[i] > 0$\n",
    "\n"
   ]
  },
  {
   "cell_type": "code",
   "execution_count": 4,
   "metadata": {
    "collapsed": false
   },
   "outputs": [],
   "source": [
    "def calc_next_point(x, x_s, y, y_s, mu):\n",
    "    grad_x, grad_x_s, grad_y, grad_y_s = grad_G(x, x_s, y, y_s, mu)\n",
    "    X = np.hstack((x, x_s, y, y_s))\n",
    "    gradG_X = np.hstack((grad_x, grad_x_s, grad_y, grad_y_s))\n",
    "    G_X = G_value(x, x_s, y, y_s, mu)\n",
    "    for i in range(len(X)):\n",
    "        if gradG_X[i] > 0 and X[i] == 0:\n",
    "            gradG_X[i] = 0\n",
    "    alpha = G_X/np.linalg.norm(gradG_X)\n",
    "    for i in range(len(X)):\n",
    "        if gradG_X[i] > 0 and X[i] == 0:\n",
    "            gradG_X[i] = 0\n",
    "        if gradG_X[i] > 0:\n",
    "            alpha = min(alpha, X[i]/(gradG_X[i]/np.linalg.norm(gradG_X)))\n",
    "    X_next = X - G_X*gradG_X/np.linalg.norm(gradG_X)**2\n",
    "    for i in range(len(X_next)):\n",
    "        if X_next[i] < 0:\n",
    "            X_next[i] = 0\n",
    "    return X_next[:len(x)], X_next[len(x):len(x) + len(x_s)], X_next[len(x) + len(x_s):len(x) + len(x_s) + len(y)], X_next[len(x) + len(x_s) + len(y):len(x) + len(x_s) + len(y) + len(y_s)]"
   ]
  },
  {
   "cell_type": "markdown",
   "metadata": {},
   "source": [
    "Наконец, находим решение задачи G = 0"
   ]
  },
  {
   "cell_type": "code",
   "execution_count": 5,
   "metadata": {
    "collapsed": false
   },
   "outputs": [],
   "source": [
    "def solve_G(mu):\n",
    "    x, y_s, x_s, y = 2*np.ones(n), np.ones(n), np.ones(m), np.ones(m)\n",
    "    while True:\n",
    "        x_next, x_s_next, y_next, y_s_next = calc_next_point(x, x_s, y, y_s, mu)\n",
    "        if np.linalg.norm(x - x_next) <= e1 and np.linalg.norm(x_s - x_s_next) <= e2 and np.linalg.norm(y - y_next) <= e3 and np.linalg.norm(y_s - y_s_next) <= e4:\n",
    "                break\n",
    "        x, x_s, y, y_s = x_next, x_s_next, y_next, y_s_next\n",
    "    return x, x_s, y, y_s"
   ]
  },
  {
   "cell_type": "markdown",
   "metadata": {},
   "source": [
    "### c) Показать экспериментально, что с помощью построенного алгоритма можно решить задачи ЛП\n",
    "Решаем заданную задачу ЛП <br>\n",
    "Входные данные:\n",
    "<br>\n",
    "e1, e2, e3, e4 - погрешности для $x, x_s, y, y_s$ соответственно <br>\n",
    "k_max - максимальное число итераций метода центрального пути"
   ]
  },
  {
   "cell_type": "code",
   "execution_count": 6,
   "metadata": {
    "collapsed": true
   },
   "outputs": [],
   "source": [
    "A = np.array([[1, 2], [2, 1]])\n",
    "b = np.array([2, 2])\n",
    "c = np.array([3, 4])\n",
    "m, n = A.shape[0], A.shape[1]\n",
    "acc = 10**(-6)\n",
    "e1, e2, e3, e4 = acc, acc, acc, acc\n",
    "k_max = 300"
   ]
  },
  {
   "cell_type": "code",
   "execution_count": 7,
   "metadata": {
    "collapsed": false
   },
   "outputs": [],
   "source": [
    "def central_path():\n",
    "    path_x, path_y, path_mu = list(), list(), list()\n",
    "    x, y_s, x_s, y = 2*np.ones(n), np.ones(n), np.ones(m), np.ones(m)\n",
    "    mu = 15.0\n",
    "    for i in range(k_max):\n",
    "        x_next, x_s_next, y_next, y_s_next = solve_G(mu)\n",
    "        if np.linalg.norm(x - x_next) <= e1 and np.linalg.norm(x_s - x_s_next) <= e2 and np.linalg.norm(y - y_next) <= e3 and np.linalg.norm(y_s - y_s_next) <= e4:\n",
    "            break;\n",
    "        path_x.append(x[0])\n",
    "        path_y.append(x[1])\n",
    "        path_mu.append(mu)\n",
    "        x, x_s, y, y_s = x_next, x_s_next, y_next, y_s_next\n",
    "        mu /= 2\n",
    "    return x, path_x, path_y, path_mu"
   ]
  },
  {
   "cell_type": "markdown",
   "metadata": {},
   "source": [
    "вывод результатов на плоскости"
   ]
  },
  {
   "cell_type": "code",
   "execution_count": 8,
   "metadata": {
    "collapsed": false
   },
   "outputs": [
    {
     "data": {
      "image/png": "[encoded data removed]",
      "text/plain": [
       "<matplotlib.figure.Figure at 0x7ff8192b3d90>"
      ]
     },
     "metadata": {},
     "output_type": "display_data"
    }
   ],
   "source": [
    "def draw_line(a, b, color):\n",
    "    #plots a line with a[0]x + a[1]y = b\n",
    "    points_x = list()\n",
    "    points_y = list()\n",
    "    if a[1] == 0:\n",
    "        points_x = [b/a[0], b/a[0]]\n",
    "        points_y = [0, 5]\n",
    "    elif a[0] == 0:\n",
    "        points_x = [0, 5]\n",
    "        points_y = [b/a[1], b/a[1]]\n",
    "    else:\n",
    "        if(a[0] < 0):\n",
    "            a = -a\n",
    "        if (a[1] > 0):\n",
    "            points_x = [0, b/a[0]]\n",
    "            points_y = [b/a[1], 0]\n",
    "        else:\n",
    "            points_x = [b/a[0], 5]\n",
    "            points_y = [0, (b - 5*a[0])/a[1]]\n",
    "    plt.plot(points_x, points_y, color)\n",
    "    \n",
    "plt.clf()\n",
    "for i in range(A.shape[0]):\n",
    "    draw_line(A[i], b[i], 'r')\n",
    "x, path_x, path_y, path_mu = central_path()\n",
    "value = np.dot(x, c)\n",
    "draw_line(c, value, 'g')\n",
    "for i in range(len(path_x)):\n",
    "    plt.plot(path_x[i], path_y[i], 'mo')\n",
    "    if(path_mu >= 0.15):\n",
    "        plt.annotate(str(path_mu[i]), xy=(path_x[i], path_y[i]), xytext=(path_x[i] + 0.1, path_y[i] - 0.25), arrowprops=dict(headwidth = 3, facecolor='black', shrink=2, width = 1))\n",
    "plt.plot(x[0], x[1], 'go', markersize = 10)\n",
    "plt.annotate(str(x), xy=(x[0], x[1]), xytext=(x[0] + 0.3, x[1] + 0.3), arrowprops=dict(headwidth = 3, facecolor='black', shrink=2, width = 1))\n",
    "\n",
    "plt.show()"
   ]
  },
  {
   "cell_type": "markdown",
   "metadata": {},
   "source": [
    "### d) Сформулировать условие выхода, которое позволяет детектировать неограниченность задачи.\n"
   ]
  },
  {
   "cell_type": "markdown",
   "metadata": {
    "collapsed": true
   },
   "source": [
    "Исходная задача неограничена тогда и только тогда, когда войственная ей не совместна, т е у $A^Ty - y_s = c$,\n",
    "$y, y_s \\geq 0$ нет допустимых точек"
   ]
  },
  {
   "cell_type": "code",
   "execution_count": null,
   "metadata": {
    "collapsed": true
   },
   "outputs": [],
   "source": []
  }
 ],
 "metadata": {
  "anaconda-cloud": {},
  "kernelspec": {
   "display_name": "Python [default]",
   "language": "python",
   "name": "python2"
  },
  "language_info": {
   "codemirror_mode": {
    "name": "ipython",
    "version": 2
   },
   "file_extension": ".py",
   "mimetype": "text/x-python",
   "name": "python",
   "nbconvert_exporter": "python",
   "pygments_lexer": "ipython2",
   "version": "2.7.12"
  }
 },
 "nbformat": 4,
 "nbformat_minor": 1
}
