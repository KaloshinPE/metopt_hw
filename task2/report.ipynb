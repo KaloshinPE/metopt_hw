{
 "cells": [
  {
   "cell_type": "code",
   "execution_count": 1,
   "metadata": {
    "collapsed": true
   },
   "outputs": [],
   "source": [
    "import numpy as np\n",
    "import matplotlib.pyplot as plt"
   ]
  },
  {
   "cell_type": "markdown",
   "metadata": {},
   "source": [
    "Входные данные:\n",
    "<br>\n",
    "e1, e2, e3, e4 - погрешности для $x, x_s, y, y_s$ соответственно <br>\n",
    "k_max - максимальное число итераций метода центрального пути"
   ]
  },
  {
   "cell_type": "code",
   "execution_count": 2,
   "metadata": {
    "collapsed": true
   },
   "outputs": [],
   "source": [
    "A = np.array([[1, 2]])\n",
    "b = np.array([2])\n",
    "c = np.array([3, 4])\n",
    "m, n = A.shape[0], A.shape[1]\n",
    "e1, e2, e3, e4 = 0.001, 0.001, 0.001, 0.001\n",
    "k_max = 100"
   ]
  },
  {
   "cell_type": "markdown",
   "metadata": {},
   "source": [
    "### а) Показать, что, если алгоритм центрального пути сходится, то он сходится к решения задачи ЛП\n",
    "\n",
    "<div style=\"float: left; width: 30%;\">Прямая задача: <br>\n",
    "max $c^Tx$ <br>\n",
    "$Ax + x_s = b$ <br>\n",
    "$x, x_s \\geq 0$\n",
    "</div><div style=\"float: left; width: 70%;\">\n",
    "Двойственная задача: <br>\n",
    "min $b^Ty$ <br>\n",
    "$A^Ty - y_s = c$ <br>\n",
    "$y, y_s \\geq 0$\n",
    "</div><div class=\"clear\">\n",
    "<t>На каждом шаге ищем $x, x_s, y, y_s$ такие, что F($x, x_s, y, y_s, \\mu$) = $\\begin{pmatrix} Ax + x_s - b \\\\  A^Ty - y_s - c\\\\ XY_s\\textbf1 - \\mu\\textbf1 \\\\ X_sY\\textbf1 - \\mu\\textbf1 \\end{pmatrix} = \\vec0$ \n",
    "<br> Уравнения из первых двух строчек системы гарантируют нам, что точки $x, x_s, y, y_s$ являются допустимыми для соответствующих задач ЛП\n",
    "<br> Из последних двух уравнений получаем, что в пределе ($\\mu = 0$) $x^iy_s^i = 0, x_s^jy^j = 0$  $\\forall i \\in\\overline{1,n}, j \\in\\overline{1,m}  $, из чего при помощи теоремы о комплиментарности делаем вывод, что $x, x_s, y, y_s$ - решения соответствующих задач ЛП"
   ]
  },
  {
   "cell_type": "markdown",
   "metadata": {},
   "source": [
    "### b) Реализовать алгоритм демпфированного метода Ньютона \n",
    "для задачи <br>solve $F(x, 𝑥𝑠, 𝑦, 𝑦𝑠, 𝜇) = \\vec0$ <br>$x,x_s,y,y_s>0$"
   ]
  },
  {
   "cell_type": "markdown",
   "metadata": {},
   "source": [
    "Функция F векторная, метод Ньютона определен для скалярной. Будем решать задачу G($x, x_s, y, y_s, \\mu$) = $<F,F>^2$, ее решение, очевидно, является решением исходной. <br>\n"
   ]
  },
  {
   "cell_type": "code",
   "execution_count": 3,
   "metadata": {
    "collapsed": true
   },
   "outputs": [],
   "source": [
    "def G_value(x, x_s, y, y_s, mu):\n",
    "    r1, r2 = np.dot(A, x) + x_s - b, np.dot(A.transpose(), y) - y_s - c\n",
    "    v1, v2 = np.array([x[i]*y_s[i] - mu for i in range(len(x))]), np.array([x_s[j]*y[j] - mu for j in range(len(y))])\n",
    "    return np.dot(r1, r1) + np.dot(r2, r2) + np.dot(v1, v1) + np.dot(v2, v2)"
   ]
  },
  {
   "cell_type": "markdown",
   "metadata": {},
   "source": [
    "gradG может быть посчитан аналитически <br>\n",
    "$\\frac{\\partial G}{\\partial x^i} = 2(Ax + x_s -b)A^T[i] + 2(x^iy_s^i - \\mu)y_s^i$,   $i \\in \\overline{1,n}$ <br>\n",
    "$\\frac{\\partial G}{\\partial x_s^j} = 2(Ax + x_s -b)\\textbf1 + 2(x_s^jy^j - \\mu)y^j$,   $j \\in \\overline{1,m}$ <br>\n",
    "$\\frac{\\partial G}{\\partial y^j} = 2(A^Ty - y_s - c)A[j] + 2(x_s^jy^j - \\mu)x_s^j$,   $j \\in \\overline{1,m}$ <br>\n",
    "$\\frac{\\partial G}{\\partial y_s^i} = -2(A^Ty - y_s - c)\\textbf1 + 2(x^iy_s^i - \\mu)x^i$,   $i \\in\\overline{1,n}$ <br>\n",
    "Здесь A[i] - i-ая строка матрицы А"
   ]
  },
  {
   "cell_type": "code",
   "execution_count": 4,
   "metadata": {
    "collapsed": true
   },
   "outputs": [],
   "source": [
    "def grad_G(x, x_s, y, y_s, mu):\n",
    "    r1 = np.dot(A, x) + x_s - b,\n",
    "    r2 = np.dot(A.transpose(), y) - y_s - c\n",
    "    dot1, dot2 = np.dot(r1, np.ones(len(r1))), np.dot(r2, np.ones(len(r2)))\n",
    "    grad_x, grad_x_s, grad_y, grad_y_s = np.zeros(len(x)), np.zeros(len(x_s)), np.zeros(len(y)), np.zeros(len(y_s))\n",
    "    for i in range(len(x)):\n",
    "        grad_x[i] = 2*np.dot(r1, A.transpose()[i]) + 2*(x[i]*y_s[i] - mu)*y_s[i]\n",
    "        grad_y_s[i] = -2*dot2 + 2*(x[i]*y_s[i] - mu)*x[i]\n",
    "    for j in range(len(y)):\n",
    "        grad_y[j] = 2*np.dot(r2, A[j]) + 2*(x_s[j]*y[j] - mu)*x_s[j]\n",
    "        grad_x_s[j] = 2*dot1 + 2*(x_s[j]*y[j] - mu)*y[j]\n",
    "    return grad_x, grad_x_s, grad_y, grad_y_s"
   ]
  },
  {
   "cell_type": "markdown",
   "metadata": {},
   "source": [
    "В следующей функции определяем, куда нам шагнуть из текущего положения <br>\n",
    "$x_{n+1} = x_n - \\alpha \\frac {gradG(x_n)}{|gradG(x_n)|}$ <br>\n",
    "$\\alpha$ выбираем так, чтобы координаты $x_{n+1}$ были неотрицательными <br>\n",
    "$\\alpha_{max} = \\frac {G(x_n)}{|gradG(x_n)|}$ <br>\n",
    "$\\alpha = min(\\alpha_{max}, min(\\frac {x_i}{gradG[i]}, \\alpha_{max}))$  $\\forall i$ т.ч $gradG[i] > 0$\n",
    "\n"
   ]
  },
  {
   "cell_type": "code",
   "execution_count": 5,
   "metadata": {
    "collapsed": false
   },
   "outputs": [],
   "source": [
    "def calc_next_point(x, x_s, y, y_s, mu):\n",
    "    grad_x, grad_x_s, grad_y, grad_y_s = grad_G(x, x_s, y, y_s, mu)\n",
    "    X = np.hstack((x, x_s, y, y_s))\n",
    "    gradG_X = np.hstack((grad_x, grad_x_s, grad_y, grad_y_s))\n",
    "    G_X = G_value(x, x_s, y, y_s, mu)\n",
    "    alpha = G_X/np.linalg.norm(gradG_X)\n",
    "    for i in range(len(X)):\n",
    "        if gradG_X[i] > 0:\n",
    "            alpha = min(alpha, X[i]/gradG_X[i])\n",
    "    X_next = X - alpha*gradG_X/np.linalg.norm(gradG_X)\n",
    "    print \"G: \" + str(G_X)\n",
    "    return X_next[:len(x)], X_next[len(x):len(x) + len(x_s)], X_next[len(x) + len(x_s):len(x) + len(x_s) + len(y)], X_next[len(x) + len(x_s) + len(y):len(x) + len(x_s) + len(y) + len(y_s)]"
   ]
  },
  {
   "cell_type": "markdown",
   "metadata": {},
   "source": [
    "Наконец, находим решение задачи G = 0"
   ]
  },
  {
   "cell_type": "code",
   "execution_count": 6,
   "metadata": {
    "collapsed": false
   },
   "outputs": [
    {
     "name": "stdout",
     "output_type": "stream",
     "text": [
      "G: 25.0\n",
      "G: 23.406894905\n",
      "G: 21.877895616\n",
      "G: 20.4123804174\n",
      "G: 19.0096938888\n",
      "G: 17.669146657\n",
      "G: 16.3900155611\n",
      "G: 15.1715442501\n",
      "G: 14.012944206\n",
      "G: 12.9133961475\n",
      "G: 11.8720517225\n",
      "G: 10.8880353378\n",
      "G: 9.96044590491\n",
      "G: 9.08835819733\n",
      "G: 8.27082343434\n",
      "G: 7.50686861525\n",
      "G: 6.79549405306\n",
      "G: 6.13566849766\n",
      "G: 5.52632121523\n",
      "G: 4.96633042186\n",
      "G: 4.45450757969\n",
      "G: 3.98957728281\n",
      "G: 3.57015282338\n",
      "G: 3.19470807283\n",
      "G: 2.86154706706\n",
      "G: 2.56877365346\n",
      "G: 2.31426468187\n",
      "G: 2.09565134394\n",
      "G: 1.91031407958\n",
      "G: 1.75539654248\n",
      "G: 1.62784298122\n",
      "G: 1.52446076591\n",
      "G: 1.4420057866\n",
      "G: 1.37728368235\n",
      "G: 1.32725539668\n",
      "G: 1.28913285379\n",
      "G: 1.26045116417\n",
      "G: 1.23910839961\n",
      "G: 1.22337136364\n",
      "G: 1.21185295284\n",
      "G: 1.20347091243\n",
      "G: 1.19739824992\n",
      "G: 1.19301339582\n",
      "(array([ 0.71965928,  0.50639327]), array([ 0.25519831]), array([ 2.04537132]), array([ 0.00210473,  0.0203493 ]))\n"
     ]
    }
   ],
   "source": [
    "def solve_G(mu):\n",
    "    x, y_s, x_s, y = np.ones(n), np.ones(n), np.ones(m), np.ones(m)\n",
    "    for i in range(1000):\n",
    "        x_next, x_s_next, y_next, y_s_next = calc_next_point(x, x_s, y, y_s, mu)\n",
    "        if np.linalg.norm(x - x_next) <= e1 and np.linalg.norm(x_s - x_s_next) <= e2 and np.linalg.norm(y - y_next) <= e3 and np.linalg.norm(y_s - y_s_next) <= e4:\n",
    "                break;\n",
    "        x, x_s, y, y_s = x_next, x_s_next, y_next, y_s_next\n",
    "    return x, x_s, y, y_s\n",
    "\n",
    "print solve_G(0)"
   ]
  },
  {
   "cell_type": "code",
   "execution_count": null,
   "metadata": {
    "collapsed": true
   },
   "outputs": [],
   "source": []
  },
  {
   "cell_type": "code",
   "execution_count": null,
   "metadata": {
    "collapsed": true
   },
   "outputs": [],
   "source": []
  }
 ],
 "metadata": {
  "anaconda-cloud": {},
  "kernelspec": {
   "display_name": "Python [default]",
   "language": "python",
   "name": "python2"
  },
  "language_info": {
   "codemirror_mode": {
    "name": "ipython",
    "version": 2
   },
   "file_extension": ".py",
   "mimetype": "text/x-python",
   "name": "python",
   "nbconvert_exporter": "python",
   "pygments_lexer": "ipython2",
   "version": "2.7.12"
  }
 },
 "nbformat": 4,
 "nbformat_minor": 1
}
