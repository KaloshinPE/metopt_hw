{
 "cells": [
  {
   "cell_type": "code",
   "execution_count": 1,
   "metadata": {
    "collapsed": true
   },
   "outputs": [],
   "source": [
    "import numpy as np\n",
    "import matplotlib.pyplot as plt"
   ]
  },
  {
   "cell_type": "markdown",
   "metadata": {},
   "source": [
    "Входные данные:"
   ]
  },
  {
   "cell_type": "code",
   "execution_count": 4,
   "metadata": {
    "collapsed": false
   },
   "outputs": [],
   "source": [
    "A = np.array([[1, 2]])\n",
    "b = np.array([2])\n",
    "c = np.array([3, 4])"
   ]
  },
  {
   "cell_type": "markdown",
   "metadata": {},
   "source": [
    "### а) Показать, что, если алгоритм центрального пути сходится, то он сходится к решения задачи ЛП\n",
    "\n",
    "<div style=\"float: left; width: 30%;\">Прямая задача: <br>\n",
    "max $c^Tx$ <br>\n",
    "$Ax + x_s = b$ <br>\n",
    "$x, x_s \\geq 0$\n",
    "</div><div style=\"float: left; width: 70%;\">\n",
    "Двойственная задача: <br>\n",
    "min $b^Ty$ <br>\n",
    "$A^Ty - y_s = c$ <br>\n",
    "$y, y_s \\geq 0$\n",
    "</div><div class=\"clear\">\n",
    "<t>На каждом шаге ищем $x, x_s, y, y_s$ такие, что F($x, x_s, y, y_s, \\mu$) = $\\begin{pmatrix} Ax + x_s - b \\\\  A^Ty - y_s - c\\\\ XY_s\\textbf1 - \\mu\\textbf1 \\\\ X_sY\\textbf1 - \\mu\\textbf1 \\end{pmatrix} = \\vec0$ \n",
    "<br> Уравнения из первых двух строчек системы гарантируют нам, что точки $x, x_s, y, y_s$ являются допустимыми для соответствующих задач ЛП\n",
    "<br> Из последних двух уравнений получаем, что в пределе ($\\mu = 0$) $x^iy_s^i = 0, x_s^jy^j = 0$  $\\forall i \\in\\overline{1,n}, j \\in\\overline{1,m}  $, из чего при помощи теоремы о комплиментарности делаем вывод, что $x, x_s, y, y_s$ - решения соответствующих задач ЛП"
   ]
  },
  {
   "cell_type": "markdown",
   "metadata": {},
   "source": [
    "### b) Реализовать алгоритм демпфированного метода Ньютона \n",
    "для задачи <br>solve $F(x, 𝑥𝑠, 𝑦, 𝑦𝑠, 𝜇) = \\vec0$ <br>$x,x_s,y,y_s>0$"
   ]
  },
  {
   "cell_type": "markdown",
   "metadata": {},
   "source": [
    "Функция F векторная, метод Ньютона определен для скалярной. Будем решать задачу G($x, x_s, y, y_s, \\mu$) = $<F,F>^2$, ее решение, очевидно, является решением исходной. <br>\n"
   ]
  },
  {
   "cell_type": "code",
   "execution_count": 5,
   "metadata": {
    "collapsed": true
   },
   "outputs": [],
   "source": [
    "def G_value(x, x_s, y, y_s, mu):\n",
    "    r1, r2 = np.dot(A, x) + x_s - b, np.dot(A.traspose(), y) - y_s - c\n",
    "    v1, v2 = np.array([x[i]*y_s[i] - mu for i in range(len(x))]), np.array([x_s[j]*y[j] - mu for j in range(len(y))])\n",
    "    return np.dot(r1, r1) + np.dot(r2, r2) + np.dot(v1, v1) + np.dot(v2, v2)"
   ]
  },
  {
   "cell_type": "markdown",
   "metadata": {},
   "source": [
    "gradG может быть посчитан аналитически <br>\n",
    "$\\frac{\\partial G}{\\partial x^i} = 2(Ax + x_s -b)A^T[i] + 2(x^iy_s^i - \\mu)y_s^i$,   $i \\in \\overline{1,n}$ <br>\n",
    "$\\frac{\\partial G}{\\partial x_s^j} = 2(Ax + x_s -b)\\textbf1 + 2(x_s^jy^j - \\mu)y^j$,   $j \\in \\overline{1,m}$ <br>\n",
    "$\\frac{\\partial G}{\\partial y^j} = 2(A^Ty - y_s - c)A[j] + 2(x_s^jy^j - \\mu)x_s^j$,   $j \\in \\overline{1,m}$ <br>\n",
    "$\\frac{\\partial G}{\\partial y_s^i} = -2(A^Ty - y_s - c)\\textbf1 + 2(x^iy_s^i - \\mu)x^i$,   $i \\in\\overline{1,n}$ <br>\n",
    "Здесь A[i] - i-ая строка матрицы А"
   ]
  },
  {
   "cell_type": "code",
   "execution_count": 6,
   "metadata": {
    "collapsed": true
   },
   "outputs": [],
   "source": [
    "def grad_G(x, x_s, y, y_s, mu):\n",
    "    r1, r2 = np.dot(A, x) + x_s - b, np.dot(A.traspose(), y) - y_s - c\n",
    "    dot1, dot2 = np.dot(r1, np.ones(len(r1))), np.dot(r2, np.ones(len(r2)))\n",
    "    grad_x, grad_x_s, grad_y, grad_y_s = np.zeros(len(x)), np.zeros(len(x_s)), np.zeros(len(y)), np.zeros(len(y_s))\n",
    "    for i in range(len(x)):\n",
    "        grad_x[i] = 2*np.dot(r1, A.transpose()[i]) + 2*(x[i]*y_s[i] - mu)*y_s[i]\n",
    "        grad_y_s[i] = -2*dot2 + 2*(x[i]*y_s[i] - mu)*x[i]\n",
    "    for j in range(len(y)):\n",
    "        grad_y[j] = 2*np.dot(r2, A[j]) + 2*(x_s[j]*y[j] - mu)*x_s[j]\n",
    "        grad_x_s[j] = 2*dot1 + 2*(x_s[j]*y[j] - mu)*y[j]\n",
    "    return grad_x, grad_x_s, grad_y, grad_y_s"
   ]
  },
  {
   "cell_type": "markdown",
   "metadata": {},
   "source": [
    "В следующей функции определяем, куда нам шагнуть из текущего положения <br>\n",
    "$x_{n+1} = x_n - \\alpha \\frac {gradG(x_n)}{|gradG(x_n)|}$ <br>\n",
    "$\\alpha$ выбираем так, чтобы координаты $x_{n+1}$ были неотрицательными <br>\n",
    "$\\alpha_{max} = \\frac {G(x_n)}{|gradG(x_n)|}$ <br>\n",
    "$\\alpha = min(\\alpha_{max}, min(\\frac {x_i}{gradG[i]}, \\alpha_{max}))$  $\\forall i$ т.ч $gradG[i] > 0$\n",
    "\n"
   ]
  },
  {
   "cell_type": "code",
   "execution_count": null,
   "metadata": {
    "collapsed": true
   },
   "outputs": [],
   "source": [
    "def calc_next_x(x, x_s, y, y_s, mu, grad_x, grad_x_s, grad_y, grad_y_s):\n",
    "    X = np.hstack((x, x_s, y, y_s))\n",
    "    gradG_X = np.hstack((grad_x, grad_x_s, grad_y, grad_y_s))\n",
    "    G_X = G_value(x, x_s, y, y_s, mu)\n",
    "    alpha = G_X/np.linalg.norm(grad_X)\n",
    "    for i in range(len(X)):\n",
    "        if gradG_X[i] > 0:\n",
    "            alpha = min(alpha, X[i]/gradG[i])\n",
    "    x = \n",
    "        \n",
    "            "
   ]
  }
 ],
 "metadata": {
  "anaconda-cloud": {},
  "kernelspec": {
   "display_name": "Python [default]",
   "language": "python",
   "name": "python2"
  },
  "language_info": {
   "codemirror_mode": {
    "name": "ipython",
    "version": 2
   },
   "file_extension": ".py",
   "mimetype": "text/x-python",
   "name": "python",
   "nbconvert_exporter": "python",
   "pygments_lexer": "ipython2",
   "version": "2.7.12"
  }
 },
 "nbformat": 4,
 "nbformat_minor": 1
}
